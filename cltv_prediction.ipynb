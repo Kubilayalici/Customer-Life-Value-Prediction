{
 "cells": [
  {
   "cell_type": "code",
   "execution_count": 68,
   "metadata": {},
   "outputs": [],
   "source": [
    "import pandas as pd\n",
    "import datetime as dt\n",
    "from lifetimes import BetaGeoFitter\n",
    "from lifetimes import GammaGammaFitter\n",
    "pd.set_option(\"display.max_columns\", None)\n",
    "pd.set_option(\"display.max_rows\", None)\n",
    "pd.set_option(\"display.width\", 200)\n",
    "pd.set_option(\"display.float_format\", lambda x : \"%.3f\" % x)"
   ]
  },
  {
   "cell_type": "markdown",
   "metadata": {},
   "source": [
    "Read data"
   ]
  },
  {
   "cell_type": "code",
   "execution_count": 69,
   "metadata": {},
   "outputs": [],
   "source": [
    "df =pd.read_csv(\"flo_data_20k.csv\")"
   ]
  },
  {
   "cell_type": "markdown",
   "metadata": {},
   "source": [
    "Exploratary data"
   ]
  },
  {
   "cell_type": "code",
   "execution_count": 70,
   "metadata": {},
   "outputs": [],
   "source": [
    "def check_df(dataframe):\n",
    "    print(\"########### Head ############\")\n",
    "    print(dataframe.head())\n",
    "    print(\"########### Info ############\")\n",
    "    print(dataframe.info())\n",
    "    print(\"########### NA ############\")\n",
    "    print(dataframe.isnull().sum())\n",
    "    print(\"########### Tail ############\")\n",
    "    print(dataframe.tail())\n",
    "    print(\"########### Describe ############\")\n",
    "    print(dataframe.describe().T)"
   ]
  },
  {
   "cell_type": "code",
   "execution_count": 71,
   "metadata": {},
   "outputs": [
    {
     "name": "stdout",
     "output_type": "stream",
     "text": [
      "########### Head ############\n",
      "                              master_id order_channel last_order_channel first_order_date last_order_date last_order_date_online last_order_date_offline  order_num_total_ever_online  \\\n",
      "0  cc294636-19f0-11eb-8d74-000d3a38a36f   Android App            Offline       2020-10-30      2021-02-26             2021-02-21              2021-02-26                        4.000   \n",
      "1  f431bd5a-ab7b-11e9-a2fc-000d3a38a36f   Android App             Mobile       2017-02-08      2021-02-16             2021-02-16              2020-01-10                       19.000   \n",
      "2  69b69676-1a40-11ea-941b-000d3a38a36f   Android App        Android App       2019-11-27      2020-11-27             2020-11-27              2019-12-01                        3.000   \n",
      "3  1854e56c-491f-11eb-806e-000d3a38a36f   Android App        Android App       2021-01-06      2021-01-17             2021-01-17              2021-01-06                        1.000   \n",
      "4  d6ea1074-f1f5-11e9-9346-000d3a38a36f       Desktop            Desktop       2019-08-03      2021-03-07             2021-03-07              2019-08-03                        1.000   \n",
      "\n",
      "   order_num_total_ever_offline  customer_value_total_ever_offline  customer_value_total_ever_online       interested_in_categories_12  \n",
      "0                         1.000                            139.990                           799.380                           [KADIN]  \n",
      "1                         2.000                            159.970                          1853.580  [ERKEK, COCUK, KADIN, AKTIFSPOR]  \n",
      "2                         2.000                            189.970                           395.350                    [ERKEK, KADIN]  \n",
      "3                         1.000                             39.990                            81.980               [AKTIFCOCUK, COCUK]  \n",
      "4                         1.000                             49.990                           159.990                       [AKTIFSPOR]  \n",
      "########### Info ############\n",
      "<class 'pandas.core.frame.DataFrame'>\n",
      "RangeIndex: 19945 entries, 0 to 19944\n",
      "Data columns (total 12 columns):\n",
      " #   Column                             Non-Null Count  Dtype  \n",
      "---  ------                             --------------  -----  \n",
      " 0   master_id                          19945 non-null  object \n",
      " 1   order_channel                      19945 non-null  object \n",
      " 2   last_order_channel                 19945 non-null  object \n",
      " 3   first_order_date                   19945 non-null  object \n",
      " 4   last_order_date                    19945 non-null  object \n",
      " 5   last_order_date_online             19945 non-null  object \n",
      " 6   last_order_date_offline            19945 non-null  object \n",
      " 7   order_num_total_ever_online        19945 non-null  float64\n",
      " 8   order_num_total_ever_offline       19945 non-null  float64\n",
      " 9   customer_value_total_ever_offline  19945 non-null  float64\n",
      " 10  customer_value_total_ever_online   19945 non-null  float64\n",
      " 11  interested_in_categories_12        19945 non-null  object \n",
      "dtypes: float64(4), object(8)\n",
      "memory usage: 1.8+ MB\n",
      "None\n",
      "########### NA ############\n",
      "master_id                            0\n",
      "order_channel                        0\n",
      "last_order_channel                   0\n",
      "first_order_date                     0\n",
      "last_order_date                      0\n",
      "last_order_date_online               0\n",
      "last_order_date_offline              0\n",
      "order_num_total_ever_online          0\n",
      "order_num_total_ever_offline         0\n",
      "customer_value_total_ever_offline    0\n",
      "customer_value_total_ever_online     0\n",
      "interested_in_categories_12          0\n",
      "dtype: int64\n",
      "########### Tail ############\n",
      "                                  master_id order_channel last_order_channel first_order_date last_order_date last_order_date_online last_order_date_offline  order_num_total_ever_online  \\\n",
      "19940  727e2b6e-ddd4-11e9-a848-000d3a38a36f   Android App            Offline       2019-09-21      2020-07-05             2020-06-05              2020-07-05                        1.000   \n",
      "19941  25cd53d4-61bf-11ea-8dd8-000d3a38a36f       Desktop            Desktop       2020-03-01      2020-12-22             2020-12-22              2020-03-01                        1.000   \n",
      "19942  8aea4c2a-d6fc-11e9-93bc-000d3a38a36f       Ios App            Ios App       2019-09-11      2021-05-24             2021-05-24              2019-09-11                        2.000   \n",
      "19943  e50bb46c-ff30-11e9-a5e8-000d3a38a36f   Android App        Android App       2019-03-27      2021-02-13             2021-02-13              2021-01-08                        1.000   \n",
      "19944  740998d2-b1f7-11e9-89fa-000d3a38a36f   Android App        Android App       2019-09-03      2020-06-06             2020-06-06              2019-09-03                        1.000   \n",
      "\n",
      "       order_num_total_ever_offline  customer_value_total_ever_offline  customer_value_total_ever_online interested_in_categories_12  \n",
      "19940                         2.000                            289.980                           111.980          [ERKEK, AKTIFSPOR]  \n",
      "19941                         1.000                            150.480                           239.990                 [AKTIFSPOR]  \n",
      "19942                         1.000                            139.980                           492.960                 [AKTIFSPOR]  \n",
      "19943                         5.000                            711.790                           297.980          [ERKEK, AKTIFSPOR]  \n",
      "19944                         1.000                             39.990                           221.980          [KADIN, AKTIFSPOR]  \n",
      "########### Describe ############\n",
      "                                      count    mean     std    min     25%     50%     75%       max\n",
      "order_num_total_ever_online       19945.000   3.111   4.226  1.000   1.000   2.000   4.000   200.000\n",
      "order_num_total_ever_offline      19945.000   1.914   2.063  1.000   1.000   1.000   2.000   109.000\n",
      "customer_value_total_ever_offline 19945.000 253.923 301.533 10.000  99.990 179.980 319.970 18119.140\n",
      "customer_value_total_ever_online  19945.000 497.322 832.602 12.990 149.980 286.460 578.440 45220.130\n"
     ]
    }
   ],
   "source": [
    "check_df(df)"
   ]
  },
  {
   "cell_type": "markdown",
   "metadata": {},
   "source": [
    "# Outliers"
   ]
  },
  {
   "cell_type": "markdown",
   "metadata": {},
   "source": [
    "Obtain outlier threshold"
   ]
  },
  {
   "cell_type": "code",
   "execution_count": 72,
   "metadata": {},
   "outputs": [],
   "source": [
    "def outlier_threshod(dataframe,variable, q1=0.01, q3=0.99):\n",
    "    quartile_1 = dataframe[variable].quantile(q1)\n",
    "    quartile_3 = dataframe[variable].quantile(q3)\n",
    "    IQR = quartile_3 - quartile_1\n",
    "    up_limit = quartile_3 + 1.5 * IQR\n",
    "    low_limit = quartile_1 - 1.5 * IQR\n",
    "    return up_limit, low_limit"
   ]
  },
  {
   "cell_type": "markdown",
   "metadata": {},
   "source": [
    "Trimming outliers"
   ]
  },
  {
   "cell_type": "code",
   "execution_count": 73,
   "metadata": {},
   "outputs": [],
   "source": [
    "def replace_with_threshold(dataframe, variable):\n",
    "    up_limit, low_limit =outlier_threshod(dataframe, variable)\n",
    "    dataframe.loc[(dataframe[variable]< low_limit, variable)] = low_limit\n",
    "    dataframe.loc[(dataframe[variable]> up_limit, variable)] = up_limit\n"
   ]
  },
  {
   "cell_type": "code",
   "execution_count": 74,
   "metadata": {},
   "outputs": [],
   "source": [
    "num_cols = [col for col in df.columns if df[col].dtypes != \"O\"]"
   ]
  },
  {
   "cell_type": "code",
   "execution_count": 75,
   "metadata": {},
   "outputs": [
    {
     "data": {
      "text/plain": [
       "['order_num_total_ever_online',\n",
       " 'order_num_total_ever_offline',\n",
       " 'customer_value_total_ever_offline',\n",
       " 'customer_value_total_ever_online']"
      ]
     },
     "execution_count": 75,
     "metadata": {},
     "output_type": "execute_result"
    }
   ],
   "source": [
    "num_cols"
   ]
  },
  {
   "cell_type": "code",
   "execution_count": 76,
   "metadata": {},
   "outputs": [],
   "source": [
    "for col in num_cols:\n",
    "    replace_with_threshold(df,col)"
   ]
  },
  {
   "cell_type": "markdown",
   "metadata": {},
   "source": [
    "Total number of order"
   ]
  },
  {
   "cell_type": "code",
   "execution_count": 77,
   "metadata": {},
   "outputs": [],
   "source": [
    "df[\"total_num_order\"] = df[\"order_num_total_ever_offline\"]+df[\"order_num_total_ever_online\"]"
   ]
  },
  {
   "cell_type": "markdown",
   "metadata": {},
   "source": [
    "Total value of customer"
   ]
  },
  {
   "cell_type": "code",
   "execution_count": 78,
   "metadata": {},
   "outputs": [],
   "source": [
    "df[\"total_value_customer\"] = df[\"customer_value_total_ever_offline\"] + df[\"customer_value_total_ever_online\"]"
   ]
  },
  {
   "cell_type": "markdown",
   "metadata": {},
   "source": [
    "Check date variables"
   ]
  },
  {
   "cell_type": "code",
   "execution_count": 79,
   "metadata": {},
   "outputs": [
    {
     "data": {
      "text/plain": [
       "True"
      ]
     },
     "execution_count": 79,
     "metadata": {},
     "output_type": "execute_result"
    }
   ],
   "source": [
    "df.columns.str.contains(\"date\").any()"
   ]
  },
  {
   "cell_type": "code",
   "execution_count": 80,
   "metadata": {},
   "outputs": [],
   "source": [
    "date_columns = df.columns[df.columns.str.contains(\"date\")]"
   ]
  },
  {
   "cell_type": "code",
   "execution_count": 81,
   "metadata": {},
   "outputs": [
    {
     "data": {
      "text/plain": [
       "Index(['first_order_date', 'last_order_date', 'last_order_date_online', 'last_order_date_offline'], dtype='object')"
      ]
     },
     "execution_count": 81,
     "metadata": {},
     "output_type": "execute_result"
    }
   ],
   "source": [
    "date_columns"
   ]
  },
  {
   "cell_type": "code",
   "execution_count": 82,
   "metadata": {},
   "outputs": [],
   "source": [
    "df[date_columns] = df[date_columns].apply(pd.to_datetime)"
   ]
  },
  {
   "cell_type": "code",
   "execution_count": 83,
   "metadata": {},
   "outputs": [
    {
     "name": "stdout",
     "output_type": "stream",
     "text": [
      "<class 'pandas.core.frame.DataFrame'>\n",
      "RangeIndex: 19945 entries, 0 to 19944\n",
      "Data columns (total 14 columns):\n",
      " #   Column                             Non-Null Count  Dtype         \n",
      "---  ------                             --------------  -----         \n",
      " 0   master_id                          19945 non-null  object        \n",
      " 1   order_channel                      19945 non-null  object        \n",
      " 2   last_order_channel                 19945 non-null  object        \n",
      " 3   first_order_date                   19945 non-null  datetime64[ns]\n",
      " 4   last_order_date                    19945 non-null  datetime64[ns]\n",
      " 5   last_order_date_online             19945 non-null  datetime64[ns]\n",
      " 6   last_order_date_offline            19945 non-null  datetime64[ns]\n",
      " 7   order_num_total_ever_online        19945 non-null  float64       \n",
      " 8   order_num_total_ever_offline       19945 non-null  float64       \n",
      " 9   customer_value_total_ever_offline  19945 non-null  float64       \n",
      " 10  customer_value_total_ever_online   19945 non-null  float64       \n",
      " 11  interested_in_categories_12        19945 non-null  object        \n",
      " 12  total_num_order                    19945 non-null  float64       \n",
      " 13  total_value_customer               19945 non-null  float64       \n",
      "dtypes: datetime64[ns](4), float64(6), object(4)\n",
      "memory usage: 2.1+ MB\n"
     ]
    }
   ],
   "source": [
    "df.info()"
   ]
  },
  {
   "cell_type": "markdown",
   "metadata": {},
   "source": [
    "## Create CLTV dataframe"
   ]
  },
  {
   "cell_type": "code",
   "execution_count": 84,
   "metadata": {},
   "outputs": [
    {
     "data": {
      "text/plain": [
       "Timestamp('2021-05-30 00:00:00')"
      ]
     },
     "execution_count": 84,
     "metadata": {},
     "output_type": "execute_result"
    }
   ],
   "source": [
    "df[\"last_order_date\"].max()"
   ]
  },
  {
   "cell_type": "code",
   "execution_count": 85,
   "metadata": {},
   "outputs": [],
   "source": [
    "analysis_data = dt.datetime(2021,6,1)"
   ]
  },
  {
   "cell_type": "code",
   "execution_count": 86,
   "metadata": {},
   "outputs": [],
   "source": [
    "cltv_df = pd.DataFrame()"
   ]
  },
  {
   "cell_type": "code",
   "execution_count": 87,
   "metadata": {},
   "outputs": [],
   "source": [
    "cltv_df[\"customer_id\"] = df[\"master_id\"]"
   ]
  },
  {
   "cell_type": "code",
   "execution_count": 88,
   "metadata": {},
   "outputs": [],
   "source": [
    "cltv_df[\"recency_cltv_weekly\"] = ((df[\"last_order_date\"] - df[\"first_order_date\"]).dt.days) / 7\n"
   ]
  },
  {
   "cell_type": "code",
   "execution_count": 90,
   "metadata": {},
   "outputs": [],
   "source": [
    "cltv_df[\"T_weekly\"] = ((analysis_data - df[\"first_order_date\"]).dt.days) / 7"
   ]
  },
  {
   "cell_type": "code",
   "execution_count": 91,
   "metadata": {},
   "outputs": [],
   "source": [
    "cltv_df[\"frequency\"] = df[\"total_num_order\"]"
   ]
  },
  {
   "cell_type": "code",
   "execution_count": 92,
   "metadata": {},
   "outputs": [],
   "source": [
    "cltv_df[\"monetary_cltv_avg\"] = df[\"total_value_customer\"] / df[\"total_num_order\"]"
   ]
  },
  {
   "cell_type": "code",
   "execution_count": 93,
   "metadata": {},
   "outputs": [
    {
     "data": {
      "text/html": [
       "<div>\n",
       "<style scoped>\n",
       "    .dataframe tbody tr th:only-of-type {\n",
       "        vertical-align: middle;\n",
       "    }\n",
       "\n",
       "    .dataframe tbody tr th {\n",
       "        vertical-align: top;\n",
       "    }\n",
       "\n",
       "    .dataframe thead th {\n",
       "        text-align: right;\n",
       "    }\n",
       "</style>\n",
       "<table border=\"1\" class=\"dataframe\">\n",
       "  <thead>\n",
       "    <tr style=\"text-align: right;\">\n",
       "      <th></th>\n",
       "      <th>customer_id</th>\n",
       "      <th>recency_cltv_weekly</th>\n",
       "      <th>T_weekly</th>\n",
       "      <th>frequency</th>\n",
       "      <th>monetary_cltv_avg</th>\n",
       "    </tr>\n",
       "  </thead>\n",
       "  <tbody>\n",
       "    <tr>\n",
       "      <th>0</th>\n",
       "      <td>cc294636-19f0-11eb-8d74-000d3a38a36f</td>\n",
       "      <td>17.000</td>\n",
       "      <td>30.571</td>\n",
       "      <td>5.000</td>\n",
       "      <td>187.874</td>\n",
       "    </tr>\n",
       "    <tr>\n",
       "      <th>1</th>\n",
       "      <td>f431bd5a-ab7b-11e9-a2fc-000d3a38a36f</td>\n",
       "      <td>209.857</td>\n",
       "      <td>224.857</td>\n",
       "      <td>21.000</td>\n",
       "      <td>95.883</td>\n",
       "    </tr>\n",
       "    <tr>\n",
       "      <th>2</th>\n",
       "      <td>69b69676-1a40-11ea-941b-000d3a38a36f</td>\n",
       "      <td>52.286</td>\n",
       "      <td>78.857</td>\n",
       "      <td>5.000</td>\n",
       "      <td>117.064</td>\n",
       "    </tr>\n",
       "    <tr>\n",
       "      <th>3</th>\n",
       "      <td>1854e56c-491f-11eb-806e-000d3a38a36f</td>\n",
       "      <td>1.571</td>\n",
       "      <td>20.857</td>\n",
       "      <td>2.000</td>\n",
       "      <td>60.985</td>\n",
       "    </tr>\n",
       "    <tr>\n",
       "      <th>4</th>\n",
       "      <td>d6ea1074-f1f5-11e9-9346-000d3a38a36f</td>\n",
       "      <td>83.143</td>\n",
       "      <td>95.429</td>\n",
       "      <td>2.000</td>\n",
       "      <td>104.990</td>\n",
       "    </tr>\n",
       "  </tbody>\n",
       "</table>\n",
       "</div>"
      ],
      "text/plain": [
       "                            customer_id  recency_cltv_weekly  T_weekly  frequency  monetary_cltv_avg\n",
       "0  cc294636-19f0-11eb-8d74-000d3a38a36f               17.000    30.571      5.000            187.874\n",
       "1  f431bd5a-ab7b-11e9-a2fc-000d3a38a36f              209.857   224.857     21.000             95.883\n",
       "2  69b69676-1a40-11ea-941b-000d3a38a36f               52.286    78.857      5.000            117.064\n",
       "3  1854e56c-491f-11eb-806e-000d3a38a36f                1.571    20.857      2.000             60.985\n",
       "4  d6ea1074-f1f5-11e9-9346-000d3a38a36f               83.143    95.429      2.000            104.990"
      ]
     },
     "execution_count": 93,
     "metadata": {},
     "output_type": "execute_result"
    }
   ],
   "source": [
    "cltv_df.head()"
   ]
  },
  {
   "cell_type": "markdown",
   "metadata": {},
   "source": [
    "# Create BG/NBD model"
   ]
  },
  {
   "cell_type": "code",
   "execution_count": 94,
   "metadata": {},
   "outputs": [],
   "source": [
    "bgf = BetaGeoFitter(penalizer_coef=0.001)"
   ]
  },
  {
   "cell_type": "code",
   "execution_count": 95,
   "metadata": {},
   "outputs": [
    {
     "data": {
      "text/plain": [
       "<lifetimes.BetaGeoFitter: fitted with 19945 subjects, a: 0.00, alpha: 76.17, b: 0.00, r: 3.66>"
      ]
     },
     "execution_count": 95,
     "metadata": {},
     "output_type": "execute_result"
    }
   ],
   "source": [
    "bgf.fit(cltv_df[\"frequency\"], \n",
    "        cltv_df[\"recency_cltv_weekly\"],\n",
    "        cltv_df[\"T_weekly\"])"
   ]
  },
  {
   "cell_type": "markdown",
   "metadata": {},
   "source": [
    "Predict expected purchase in 3 months "
   ]
  },
  {
   "cell_type": "code",
   "execution_count": 96,
   "metadata": {},
   "outputs": [],
   "source": [
    "cltv_df[\"exp_sales_3_months\"] = bgf.predict(4+3,\n",
    "                                            cltv_df[\"frequency\"],\n",
    "                                            cltv_df[\"recency_cltv_weekly\"],\n",
    "                                            cltv_df[\"T_weekly\"])"
   ]
  },
  {
   "cell_type": "markdown",
   "metadata": {},
   "source": [
    "Predict expected purchase in 6 months"
   ]
  },
  {
   "cell_type": "code",
   "execution_count": 97,
   "metadata": {},
   "outputs": [],
   "source": [
    "cltv_df[\"exp_sales_6_months\"] = bgf.predict(4+6,\n",
    "                                            cltv_df[\"frequency\"],\n",
    "                                            cltv_df[\"recency_cltv_weekly\"],\n",
    "                                            cltv_df[\"T_weekly\"])"
   ]
  },
  {
   "cell_type": "code",
   "execution_count": 98,
   "metadata": {},
   "outputs": [
    {
     "data": {
      "text/html": [
       "<div>\n",
       "<style scoped>\n",
       "    .dataframe tbody tr th:only-of-type {\n",
       "        vertical-align: middle;\n",
       "    }\n",
       "\n",
       "    .dataframe tbody tr th {\n",
       "        vertical-align: top;\n",
       "    }\n",
       "\n",
       "    .dataframe thead th {\n",
       "        text-align: right;\n",
       "    }\n",
       "</style>\n",
       "<table border=\"1\" class=\"dataframe\">\n",
       "  <thead>\n",
       "    <tr style=\"text-align: right;\">\n",
       "      <th></th>\n",
       "      <th>customer_id</th>\n",
       "      <th>recency_cltv_weekly</th>\n",
       "      <th>T_weekly</th>\n",
       "      <th>frequency</th>\n",
       "      <th>monetary_cltv_avg</th>\n",
       "      <th>exp_sales_3_months</th>\n",
       "      <th>exp_sales_6_months</th>\n",
       "    </tr>\n",
       "  </thead>\n",
       "  <tbody>\n",
       "    <tr>\n",
       "      <th>0</th>\n",
       "      <td>cc294636-19f0-11eb-8d74-000d3a38a36f</td>\n",
       "      <td>17.000</td>\n",
       "      <td>30.571</td>\n",
       "      <td>5.000</td>\n",
       "      <td>187.874</td>\n",
       "      <td>0.568</td>\n",
       "      <td>0.812</td>\n",
       "    </tr>\n",
       "    <tr>\n",
       "      <th>1</th>\n",
       "      <td>f431bd5a-ab7b-11e9-a2fc-000d3a38a36f</td>\n",
       "      <td>209.857</td>\n",
       "      <td>224.857</td>\n",
       "      <td>21.000</td>\n",
       "      <td>95.883</td>\n",
       "      <td>0.574</td>\n",
       "      <td>0.819</td>\n",
       "    </tr>\n",
       "    <tr>\n",
       "      <th>2</th>\n",
       "      <td>69b69676-1a40-11ea-941b-000d3a38a36f</td>\n",
       "      <td>52.286</td>\n",
       "      <td>78.857</td>\n",
       "      <td>5.000</td>\n",
       "      <td>117.064</td>\n",
       "      <td>0.391</td>\n",
       "      <td>0.559</td>\n",
       "    </tr>\n",
       "    <tr>\n",
       "      <th>3</th>\n",
       "      <td>1854e56c-491f-11eb-806e-000d3a38a36f</td>\n",
       "      <td>1.571</td>\n",
       "      <td>20.857</td>\n",
       "      <td>2.000</td>\n",
       "      <td>60.985</td>\n",
       "      <td>0.409</td>\n",
       "      <td>0.584</td>\n",
       "    </tr>\n",
       "    <tr>\n",
       "      <th>4</th>\n",
       "      <td>d6ea1074-f1f5-11e9-9346-000d3a38a36f</td>\n",
       "      <td>83.143</td>\n",
       "      <td>95.429</td>\n",
       "      <td>2.000</td>\n",
       "      <td>104.990</td>\n",
       "      <td>0.231</td>\n",
       "      <td>0.330</td>\n",
       "    </tr>\n",
       "  </tbody>\n",
       "</table>\n",
       "</div>"
      ],
      "text/plain": [
       "                            customer_id  recency_cltv_weekly  T_weekly  frequency  monetary_cltv_avg  exp_sales_3_months  exp_sales_6_months\n",
       "0  cc294636-19f0-11eb-8d74-000d3a38a36f               17.000    30.571      5.000            187.874               0.568               0.812\n",
       "1  f431bd5a-ab7b-11e9-a2fc-000d3a38a36f              209.857   224.857     21.000             95.883               0.574               0.819\n",
       "2  69b69676-1a40-11ea-941b-000d3a38a36f               52.286    78.857      5.000            117.064               0.391               0.559\n",
       "3  1854e56c-491f-11eb-806e-000d3a38a36f                1.571    20.857      2.000             60.985               0.409               0.584\n",
       "4  d6ea1074-f1f5-11e9-9346-000d3a38a36f               83.143    95.429      2.000            104.990               0.231               0.330"
      ]
     },
     "execution_count": 98,
     "metadata": {},
     "output_type": "execute_result"
    }
   ],
   "source": [
    "cltv_df.head()"
   ]
  },
  {
   "cell_type": "code",
   "execution_count": 99,
   "metadata": {},
   "outputs": [
    {
     "data": {
      "text/html": [
       "<div>\n",
       "<style scoped>\n",
       "    .dataframe tbody tr th:only-of-type {\n",
       "        vertical-align: middle;\n",
       "    }\n",
       "\n",
       "    .dataframe tbody tr th {\n",
       "        vertical-align: top;\n",
       "    }\n",
       "\n",
       "    .dataframe thead th {\n",
       "        text-align: right;\n",
       "    }\n",
       "</style>\n",
       "<table border=\"1\" class=\"dataframe\">\n",
       "  <thead>\n",
       "    <tr style=\"text-align: right;\">\n",
       "      <th></th>\n",
       "      <th>customer_id</th>\n",
       "      <th>recency_cltv_weekly</th>\n",
       "      <th>T_weekly</th>\n",
       "      <th>frequency</th>\n",
       "      <th>monetary_cltv_avg</th>\n",
       "      <th>exp_sales_3_months</th>\n",
       "      <th>exp_sales_6_months</th>\n",
       "    </tr>\n",
       "  </thead>\n",
       "  <tbody>\n",
       "    <tr>\n",
       "      <th>7330</th>\n",
       "      <td>a4d534a2-5b1b-11eb-8dbd-000d3a38a36f</td>\n",
       "      <td>62.714</td>\n",
       "      <td>67.286</td>\n",
       "      <td>52.500</td>\n",
       "      <td>164.633</td>\n",
       "      <td>2.740</td>\n",
       "      <td>3.915</td>\n",
       "    </tr>\n",
       "    <tr>\n",
       "      <th>15611</th>\n",
       "      <td>4a7e875e-e6ce-11ea-8f44-000d3a38a36f</td>\n",
       "      <td>39.714</td>\n",
       "      <td>40.000</td>\n",
       "      <td>29.000</td>\n",
       "      <td>165.298</td>\n",
       "      <td>1.968</td>\n",
       "      <td>2.812</td>\n",
       "    </tr>\n",
       "    <tr>\n",
       "      <th>8328</th>\n",
       "      <td>1902bf80-0035-11eb-8341-000d3a38a36f</td>\n",
       "      <td>28.857</td>\n",
       "      <td>33.286</td>\n",
       "      <td>25.000</td>\n",
       "      <td>97.440</td>\n",
       "      <td>1.833</td>\n",
       "      <td>2.619</td>\n",
       "    </tr>\n",
       "    <tr>\n",
       "      <th>19538</th>\n",
       "      <td>55d54d9e-8ac7-11ea-8ec0-000d3a38a36f</td>\n",
       "      <td>52.571</td>\n",
       "      <td>58.714</td>\n",
       "      <td>31.000</td>\n",
       "      <td>228.530</td>\n",
       "      <td>1.799</td>\n",
       "      <td>2.570</td>\n",
       "    </tr>\n",
       "    <tr>\n",
       "      <th>14373</th>\n",
       "      <td>f00ad516-c4f4-11ea-98f7-000d3a38a36f</td>\n",
       "      <td>38.000</td>\n",
       "      <td>46.429</td>\n",
       "      <td>27.000</td>\n",
       "      <td>141.355</td>\n",
       "      <td>1.751</td>\n",
       "      <td>2.501</td>\n",
       "    </tr>\n",
       "    <tr>\n",
       "      <th>10489</th>\n",
       "      <td>7af5cd16-b100-11e9-9757-000d3a38a36f</td>\n",
       "      <td>103.143</td>\n",
       "      <td>111.857</td>\n",
       "      <td>43.000</td>\n",
       "      <td>157.113</td>\n",
       "      <td>1.737</td>\n",
       "      <td>2.482</td>\n",
       "    </tr>\n",
       "    <tr>\n",
       "      <th>4315</th>\n",
       "      <td>d5ef8058-a5c6-11e9-a2fc-000d3a38a36f</td>\n",
       "      <td>133.143</td>\n",
       "      <td>147.143</td>\n",
       "      <td>49.500</td>\n",
       "      <td>160.203</td>\n",
       "      <td>1.666</td>\n",
       "      <td>2.381</td>\n",
       "    </tr>\n",
       "    <tr>\n",
       "      <th>6756</th>\n",
       "      <td>27310582-6362-11ea-a6dc-000d3a38a36f</td>\n",
       "      <td>62.714</td>\n",
       "      <td>64.143</td>\n",
       "      <td>29.000</td>\n",
       "      <td>168.881</td>\n",
       "      <td>1.630</td>\n",
       "      <td>2.328</td>\n",
       "    </tr>\n",
       "    <tr>\n",
       "      <th>6666</th>\n",
       "      <td>53fe00d4-7b7a-11eb-960b-000d3a38a36f</td>\n",
       "      <td>9.714</td>\n",
       "      <td>13.000</td>\n",
       "      <td>17.000</td>\n",
       "      <td>259.865</td>\n",
       "      <td>1.622</td>\n",
       "      <td>2.317</td>\n",
       "    </tr>\n",
       "    <tr>\n",
       "      <th>10536</th>\n",
       "      <td>e143b6fa-d6f8-11e9-93bc-000d3a38a36f</td>\n",
       "      <td>104.571</td>\n",
       "      <td>113.429</td>\n",
       "      <td>40.000</td>\n",
       "      <td>176.200</td>\n",
       "      <td>1.612</td>\n",
       "      <td>2.303</td>\n",
       "    </tr>\n",
       "  </tbody>\n",
       "</table>\n",
       "</div>"
      ],
      "text/plain": [
       "                                customer_id  recency_cltv_weekly  T_weekly  frequency  monetary_cltv_avg  exp_sales_3_months  exp_sales_6_months\n",
       "7330   a4d534a2-5b1b-11eb-8dbd-000d3a38a36f               62.714    67.286     52.500            164.633               2.740               3.915\n",
       "15611  4a7e875e-e6ce-11ea-8f44-000d3a38a36f               39.714    40.000     29.000            165.298               1.968               2.812\n",
       "8328   1902bf80-0035-11eb-8341-000d3a38a36f               28.857    33.286     25.000             97.440               1.833               2.619\n",
       "19538  55d54d9e-8ac7-11ea-8ec0-000d3a38a36f               52.571    58.714     31.000            228.530               1.799               2.570\n",
       "14373  f00ad516-c4f4-11ea-98f7-000d3a38a36f               38.000    46.429     27.000            141.355               1.751               2.501\n",
       "10489  7af5cd16-b100-11e9-9757-000d3a38a36f              103.143   111.857     43.000            157.113               1.737               2.482\n",
       "4315   d5ef8058-a5c6-11e9-a2fc-000d3a38a36f              133.143   147.143     49.500            160.203               1.666               2.381\n",
       "6756   27310582-6362-11ea-a6dc-000d3a38a36f               62.714    64.143     29.000            168.881               1.630               2.328\n",
       "6666   53fe00d4-7b7a-11eb-960b-000d3a38a36f                9.714    13.000     17.000            259.865               1.622               2.317\n",
       "10536  e143b6fa-d6f8-11e9-93bc-000d3a38a36f              104.571   113.429     40.000            176.200               1.612               2.303"
      ]
     },
     "execution_count": 99,
     "metadata": {},
     "output_type": "execute_result"
    }
   ],
   "source": [
    "cltv_df.sort_values(\"exp_sales_3_months\", ascending=False)[:10]"
   ]
  },
  {
   "cell_type": "code",
   "execution_count": 100,
   "metadata": {},
   "outputs": [
    {
     "data": {
      "text/html": [
       "<div>\n",
       "<style scoped>\n",
       "    .dataframe tbody tr th:only-of-type {\n",
       "        vertical-align: middle;\n",
       "    }\n",
       "\n",
       "    .dataframe tbody tr th {\n",
       "        vertical-align: top;\n",
       "    }\n",
       "\n",
       "    .dataframe thead th {\n",
       "        text-align: right;\n",
       "    }\n",
       "</style>\n",
       "<table border=\"1\" class=\"dataframe\">\n",
       "  <thead>\n",
       "    <tr style=\"text-align: right;\">\n",
       "      <th></th>\n",
       "      <th>customer_id</th>\n",
       "      <th>recency_cltv_weekly</th>\n",
       "      <th>T_weekly</th>\n",
       "      <th>frequency</th>\n",
       "      <th>monetary_cltv_avg</th>\n",
       "      <th>exp_sales_3_months</th>\n",
       "      <th>exp_sales_6_months</th>\n",
       "    </tr>\n",
       "  </thead>\n",
       "  <tbody>\n",
       "    <tr>\n",
       "      <th>7330</th>\n",
       "      <td>a4d534a2-5b1b-11eb-8dbd-000d3a38a36f</td>\n",
       "      <td>62.714</td>\n",
       "      <td>67.286</td>\n",
       "      <td>52.500</td>\n",
       "      <td>164.633</td>\n",
       "      <td>2.740</td>\n",
       "      <td>3.915</td>\n",
       "    </tr>\n",
       "    <tr>\n",
       "      <th>15611</th>\n",
       "      <td>4a7e875e-e6ce-11ea-8f44-000d3a38a36f</td>\n",
       "      <td>39.714</td>\n",
       "      <td>40.000</td>\n",
       "      <td>29.000</td>\n",
       "      <td>165.298</td>\n",
       "      <td>1.968</td>\n",
       "      <td>2.812</td>\n",
       "    </tr>\n",
       "    <tr>\n",
       "      <th>8328</th>\n",
       "      <td>1902bf80-0035-11eb-8341-000d3a38a36f</td>\n",
       "      <td>28.857</td>\n",
       "      <td>33.286</td>\n",
       "      <td>25.000</td>\n",
       "      <td>97.440</td>\n",
       "      <td>1.833</td>\n",
       "      <td>2.619</td>\n",
       "    </tr>\n",
       "    <tr>\n",
       "      <th>19538</th>\n",
       "      <td>55d54d9e-8ac7-11ea-8ec0-000d3a38a36f</td>\n",
       "      <td>52.571</td>\n",
       "      <td>58.714</td>\n",
       "      <td>31.000</td>\n",
       "      <td>228.530</td>\n",
       "      <td>1.799</td>\n",
       "      <td>2.570</td>\n",
       "    </tr>\n",
       "    <tr>\n",
       "      <th>14373</th>\n",
       "      <td>f00ad516-c4f4-11ea-98f7-000d3a38a36f</td>\n",
       "      <td>38.000</td>\n",
       "      <td>46.429</td>\n",
       "      <td>27.000</td>\n",
       "      <td>141.355</td>\n",
       "      <td>1.751</td>\n",
       "      <td>2.501</td>\n",
       "    </tr>\n",
       "    <tr>\n",
       "      <th>10489</th>\n",
       "      <td>7af5cd16-b100-11e9-9757-000d3a38a36f</td>\n",
       "      <td>103.143</td>\n",
       "      <td>111.857</td>\n",
       "      <td>43.000</td>\n",
       "      <td>157.113</td>\n",
       "      <td>1.737</td>\n",
       "      <td>2.482</td>\n",
       "    </tr>\n",
       "    <tr>\n",
       "      <th>4315</th>\n",
       "      <td>d5ef8058-a5c6-11e9-a2fc-000d3a38a36f</td>\n",
       "      <td>133.143</td>\n",
       "      <td>147.143</td>\n",
       "      <td>49.500</td>\n",
       "      <td>160.203</td>\n",
       "      <td>1.666</td>\n",
       "      <td>2.381</td>\n",
       "    </tr>\n",
       "    <tr>\n",
       "      <th>6756</th>\n",
       "      <td>27310582-6362-11ea-a6dc-000d3a38a36f</td>\n",
       "      <td>62.714</td>\n",
       "      <td>64.143</td>\n",
       "      <td>29.000</td>\n",
       "      <td>168.881</td>\n",
       "      <td>1.630</td>\n",
       "      <td>2.328</td>\n",
       "    </tr>\n",
       "    <tr>\n",
       "      <th>6666</th>\n",
       "      <td>53fe00d4-7b7a-11eb-960b-000d3a38a36f</td>\n",
       "      <td>9.714</td>\n",
       "      <td>13.000</td>\n",
       "      <td>17.000</td>\n",
       "      <td>259.865</td>\n",
       "      <td>1.622</td>\n",
       "      <td>2.317</td>\n",
       "    </tr>\n",
       "    <tr>\n",
       "      <th>10536</th>\n",
       "      <td>e143b6fa-d6f8-11e9-93bc-000d3a38a36f</td>\n",
       "      <td>104.571</td>\n",
       "      <td>113.429</td>\n",
       "      <td>40.000</td>\n",
       "      <td>176.200</td>\n",
       "      <td>1.612</td>\n",
       "      <td>2.303</td>\n",
       "    </tr>\n",
       "  </tbody>\n",
       "</table>\n",
       "</div>"
      ],
      "text/plain": [
       "                                customer_id  recency_cltv_weekly  T_weekly  frequency  monetary_cltv_avg  exp_sales_3_months  exp_sales_6_months\n",
       "7330   a4d534a2-5b1b-11eb-8dbd-000d3a38a36f               62.714    67.286     52.500            164.633               2.740               3.915\n",
       "15611  4a7e875e-e6ce-11ea-8f44-000d3a38a36f               39.714    40.000     29.000            165.298               1.968               2.812\n",
       "8328   1902bf80-0035-11eb-8341-000d3a38a36f               28.857    33.286     25.000             97.440               1.833               2.619\n",
       "19538  55d54d9e-8ac7-11ea-8ec0-000d3a38a36f               52.571    58.714     31.000            228.530               1.799               2.570\n",
       "14373  f00ad516-c4f4-11ea-98f7-000d3a38a36f               38.000    46.429     27.000            141.355               1.751               2.501\n",
       "10489  7af5cd16-b100-11e9-9757-000d3a38a36f              103.143   111.857     43.000            157.113               1.737               2.482\n",
       "4315   d5ef8058-a5c6-11e9-a2fc-000d3a38a36f              133.143   147.143     49.500            160.203               1.666               2.381\n",
       "6756   27310582-6362-11ea-a6dc-000d3a38a36f               62.714    64.143     29.000            168.881               1.630               2.328\n",
       "6666   53fe00d4-7b7a-11eb-960b-000d3a38a36f                9.714    13.000     17.000            259.865               1.622               2.317\n",
       "10536  e143b6fa-d6f8-11e9-93bc-000d3a38a36f              104.571   113.429     40.000            176.200               1.612               2.303"
      ]
     },
     "execution_count": 100,
     "metadata": {},
     "output_type": "execute_result"
    }
   ],
   "source": [
    "cltv_df.sort_values(\"exp_sales_6_months\", ascending=False)[:10]"
   ]
  },
  {
   "cell_type": "markdown",
   "metadata": {},
   "source": [
    "Gamma-Gamma model"
   ]
  },
  {
   "cell_type": "code",
   "execution_count": 101,
   "metadata": {},
   "outputs": [],
   "source": [
    "ggf = GammaGammaFitter(penalizer_coef=0.01)"
   ]
  },
  {
   "cell_type": "code",
   "execution_count": 102,
   "metadata": {},
   "outputs": [
    {
     "ename": "ValueError",
     "evalue": "There exist non-integer values in the frequency vector.",
     "output_type": "error",
     "traceback": [
      "\u001b[1;31m---------------------------------------------------------------------------\u001b[0m",
      "\u001b[1;31mValueError\u001b[0m                                Traceback (most recent call last)",
      "Cell \u001b[1;32mIn[102], line 1\u001b[0m\n\u001b[1;32m----> 1\u001b[0m ggf\u001b[38;5;241m.\u001b[39mfit(cltv_df[\u001b[38;5;124m\"\u001b[39m\u001b[38;5;124mfrequency\u001b[39m\u001b[38;5;124m\"\u001b[39m], cltv_df[\u001b[38;5;124m\"\u001b[39m\u001b[38;5;124mmonetary_cltv_avg\u001b[39m\u001b[38;5;124m\"\u001b[39m])\n",
      "File \u001b[1;32md:\\Anaconda\\Lib\\site-packages\\lifetimes\\fitters\\gamma_gamma_fitter.py:214\u001b[0m, in \u001b[0;36mGammaGammaFitter.fit\u001b[1;34m(self, frequency, monetary_value, weights, initial_params, verbose, tol, index, q_constraint, **kwargs)\u001b[0m\n\u001b[0;32m    160\u001b[0m \u001b[38;5;28;01mdef\u001b[39;00m \u001b[38;5;21mfit\u001b[39m(\n\u001b[0;32m    161\u001b[0m     \u001b[38;5;28mself\u001b[39m,\n\u001b[0;32m    162\u001b[0m     frequency,\n\u001b[1;32m   (...)\u001b[0m\n\u001b[0;32m    170\u001b[0m     \u001b[38;5;241m*\u001b[39m\u001b[38;5;241m*\u001b[39mkwargs\n\u001b[0;32m    171\u001b[0m ):\n\u001b[0;32m    172\u001b[0m \u001b[38;5;250m    \u001b[39m\u001b[38;5;124;03m\"\"\"\u001b[39;00m\n\u001b[0;32m    173\u001b[0m \u001b[38;5;124;03m    Fit the data to the Gamma/Gamma model.\u001b[39;00m\n\u001b[0;32m    174\u001b[0m \n\u001b[1;32m   (...)\u001b[0m\n\u001b[0;32m    211\u001b[0m \u001b[38;5;124;03m        fitted and with parameters estimated\u001b[39;00m\n\u001b[0;32m    212\u001b[0m \u001b[38;5;124;03m    \"\"\"\u001b[39;00m\n\u001b[1;32m--> 214\u001b[0m     _check_inputs(frequency, monetary_value\u001b[38;5;241m=\u001b[39mmonetary_value)\n\u001b[0;32m    216\u001b[0m     frequency \u001b[38;5;241m=\u001b[39m np\u001b[38;5;241m.\u001b[39masarray(frequency)\u001b[38;5;241m.\u001b[39mastype(\u001b[38;5;28mfloat\u001b[39m)\n\u001b[0;32m    217\u001b[0m     monetary_value \u001b[38;5;241m=\u001b[39m np\u001b[38;5;241m.\u001b[39masarray(monetary_value)\u001b[38;5;241m.\u001b[39mastype(\u001b[38;5;28mfloat\u001b[39m)\n",
      "File \u001b[1;32md:\\Anaconda\\Lib\\site-packages\\lifetimes\\utils.py:442\u001b[0m, in \u001b[0;36m_check_inputs\u001b[1;34m(frequency, recency, T, monetary_value)\u001b[0m\n\u001b[0;32m    440\u001b[0m         \u001b[38;5;28;01mraise\u001b[39;00m \u001b[38;5;167;01mValueError\u001b[39;00m(\u001b[38;5;124m\"\u001b[39m\u001b[38;5;124mThere exists a zero length vector in one of frequency, recency or T.\u001b[39m\u001b[38;5;124m\"\u001b[39m)\n\u001b[0;32m    441\u001b[0m \u001b[38;5;28;01mif\u001b[39;00m np\u001b[38;5;241m.\u001b[39msum((frequency \u001b[38;5;241m-\u001b[39m frequency\u001b[38;5;241m.\u001b[39mastype(\u001b[38;5;28mint\u001b[39m)) \u001b[38;5;241m*\u001b[39m\u001b[38;5;241m*\u001b[39m \u001b[38;5;241m2\u001b[39m) \u001b[38;5;241m!=\u001b[39m \u001b[38;5;241m0\u001b[39m:\n\u001b[1;32m--> 442\u001b[0m     \u001b[38;5;28;01mraise\u001b[39;00m \u001b[38;5;167;01mValueError\u001b[39;00m(\u001b[38;5;124m\"\u001b[39m\u001b[38;5;124mThere exist non-integer values in the frequency vector.\u001b[39m\u001b[38;5;124m\"\u001b[39m)\n\u001b[0;32m    443\u001b[0m \u001b[38;5;28;01mif\u001b[39;00m monetary_value \u001b[38;5;129;01mis\u001b[39;00m \u001b[38;5;129;01mnot\u001b[39;00m \u001b[38;5;28;01mNone\u001b[39;00m \u001b[38;5;129;01mand\u001b[39;00m np\u001b[38;5;241m.\u001b[39many(monetary_value \u001b[38;5;241m<\u001b[39m\u001b[38;5;241m=\u001b[39m \u001b[38;5;241m0\u001b[39m):\n\u001b[0;32m    444\u001b[0m     \u001b[38;5;28;01mraise\u001b[39;00m \u001b[38;5;167;01mValueError\u001b[39;00m(\u001b[38;5;124m\"\u001b[39m\u001b[38;5;124mThere exist non-positive (<= 0) values in the monetary_value vector.\u001b[39m\u001b[38;5;124m\"\u001b[39m)\n",
      "\u001b[1;31mValueError\u001b[0m: There exist non-integer values in the frequency vector."
     ]
    }
   ],
   "source": [
    "ggf.fit(cltv_df[\"frequency\"], cltv_df[\"monetary_cltv_avg\"])"
   ]
  },
  {
   "cell_type": "code",
   "execution_count": 103,
   "metadata": {},
   "outputs": [],
   "source": [
    "cltv_df[\"frequency\"] = cltv_df[\"frequency\"].round().astype(int)"
   ]
  },
  {
   "cell_type": "code",
   "execution_count": 104,
   "metadata": {},
   "outputs": [
    {
     "data": {
      "text/plain": [
       "<lifetimes.GammaGammaFitter: fitted with 19945 subjects, p: 4.15, q: 0.47, v: 4.08>"
      ]
     },
     "execution_count": 104,
     "metadata": {},
     "output_type": "execute_result"
    }
   ],
   "source": [
    "ggf.fit(cltv_df[\"frequency\"], cltv_df[\"monetary_cltv_avg\"])"
   ]
  },
  {
   "cell_type": "code",
   "execution_count": 105,
   "metadata": {},
   "outputs": [],
   "source": [
    "cltv_df[\"exp_average_value\"] = ggf.conditional_expected_average_profit(cltv_df[\"frequency\"],\n",
    "                                                                       cltv_df[\"monetary_cltv_avg\"])"
   ]
  },
  {
   "cell_type": "code",
   "execution_count": 106,
   "metadata": {},
   "outputs": [
    {
     "data": {
      "text/html": [
       "<div>\n",
       "<style scoped>\n",
       "    .dataframe tbody tr th:only-of-type {\n",
       "        vertical-align: middle;\n",
       "    }\n",
       "\n",
       "    .dataframe tbody tr th {\n",
       "        vertical-align: top;\n",
       "    }\n",
       "\n",
       "    .dataframe thead th {\n",
       "        text-align: right;\n",
       "    }\n",
       "</style>\n",
       "<table border=\"1\" class=\"dataframe\">\n",
       "  <thead>\n",
       "    <tr style=\"text-align: right;\">\n",
       "      <th></th>\n",
       "      <th>customer_id</th>\n",
       "      <th>recency_cltv_weekly</th>\n",
       "      <th>T_weekly</th>\n",
       "      <th>frequency</th>\n",
       "      <th>monetary_cltv_avg</th>\n",
       "      <th>exp_sales_3_months</th>\n",
       "      <th>exp_sales_6_months</th>\n",
       "      <th>exp_average_value</th>\n",
       "    </tr>\n",
       "  </thead>\n",
       "  <tbody>\n",
       "    <tr>\n",
       "      <th>0</th>\n",
       "      <td>cc294636-19f0-11eb-8d74-000d3a38a36f</td>\n",
       "      <td>17.000</td>\n",
       "      <td>30.571</td>\n",
       "      <td>5</td>\n",
       "      <td>187.874</td>\n",
       "      <td>0.568</td>\n",
       "      <td>0.812</td>\n",
       "      <td>193.633</td>\n",
       "    </tr>\n",
       "    <tr>\n",
       "      <th>1</th>\n",
       "      <td>f431bd5a-ab7b-11e9-a2fc-000d3a38a36f</td>\n",
       "      <td>209.857</td>\n",
       "      <td>224.857</td>\n",
       "      <td>21</td>\n",
       "      <td>95.883</td>\n",
       "      <td>0.574</td>\n",
       "      <td>0.819</td>\n",
       "      <td>96.665</td>\n",
       "    </tr>\n",
       "    <tr>\n",
       "      <th>2</th>\n",
       "      <td>69b69676-1a40-11ea-941b-000d3a38a36f</td>\n",
       "      <td>52.286</td>\n",
       "      <td>78.857</td>\n",
       "      <td>5</td>\n",
       "      <td>117.064</td>\n",
       "      <td>0.391</td>\n",
       "      <td>0.559</td>\n",
       "      <td>120.968</td>\n",
       "    </tr>\n",
       "    <tr>\n",
       "      <th>3</th>\n",
       "      <td>1854e56c-491f-11eb-806e-000d3a38a36f</td>\n",
       "      <td>1.571</td>\n",
       "      <td>20.857</td>\n",
       "      <td>2</td>\n",
       "      <td>60.985</td>\n",
       "      <td>0.409</td>\n",
       "      <td>0.584</td>\n",
       "      <td>67.320</td>\n",
       "    </tr>\n",
       "    <tr>\n",
       "      <th>4</th>\n",
       "      <td>d6ea1074-f1f5-11e9-9346-000d3a38a36f</td>\n",
       "      <td>83.143</td>\n",
       "      <td>95.429</td>\n",
       "      <td>2</td>\n",
       "      <td>104.990</td>\n",
       "      <td>0.231</td>\n",
       "      <td>0.330</td>\n",
       "      <td>114.325</td>\n",
       "    </tr>\n",
       "  </tbody>\n",
       "</table>\n",
       "</div>"
      ],
      "text/plain": [
       "                            customer_id  recency_cltv_weekly  T_weekly  frequency  monetary_cltv_avg  exp_sales_3_months  exp_sales_6_months  exp_average_value\n",
       "0  cc294636-19f0-11eb-8d74-000d3a38a36f               17.000    30.571          5            187.874               0.568               0.812            193.633\n",
       "1  f431bd5a-ab7b-11e9-a2fc-000d3a38a36f              209.857   224.857         21             95.883               0.574               0.819             96.665\n",
       "2  69b69676-1a40-11ea-941b-000d3a38a36f               52.286    78.857          5            117.064               0.391               0.559            120.968\n",
       "3  1854e56c-491f-11eb-806e-000d3a38a36f                1.571    20.857          2             60.985               0.409               0.584             67.320\n",
       "4  d6ea1074-f1f5-11e9-9346-000d3a38a36f               83.143    95.429          2            104.990               0.231               0.330            114.325"
      ]
     },
     "execution_count": 106,
     "metadata": {},
     "output_type": "execute_result"
    }
   ],
   "source": [
    "cltv_df.head()"
   ]
  },
  {
   "cell_type": "markdown",
   "metadata": {},
   "source": [
    "# CLTV"
   ]
  },
  {
   "cell_type": "code",
   "execution_count": 107,
   "metadata": {},
   "outputs": [],
   "source": [
    "cltv = ggf.customer_lifetime_value(bgf,\n",
    "                                   cltv_df[\"frequency\"],\n",
    "                                   cltv_df[\"recency_cltv_weekly\"],\n",
    "                                   cltv_df[\"T_weekly\"],\n",
    "                                   cltv_df[\"monetary_cltv_avg\"],\n",
    "                                   time=6,\n",
    "                                   freq=\"M\",\n",
    "                                   discount_rate=0.01)"
   ]
  },
  {
   "cell_type": "code",
   "execution_count": 108,
   "metadata": {},
   "outputs": [],
   "source": [
    "cltv_df[\"cltv\"] = cltv "
   ]
  },
  {
   "cell_type": "code",
   "execution_count": 109,
   "metadata": {},
   "outputs": [
    {
     "data": {
      "text/html": [
       "<div>\n",
       "<style scoped>\n",
       "    .dataframe tbody tr th:only-of-type {\n",
       "        vertical-align: middle;\n",
       "    }\n",
       "\n",
       "    .dataframe tbody tr th {\n",
       "        vertical-align: top;\n",
       "    }\n",
       "\n",
       "    .dataframe thead th {\n",
       "        text-align: right;\n",
       "    }\n",
       "</style>\n",
       "<table border=\"1\" class=\"dataframe\">\n",
       "  <thead>\n",
       "    <tr style=\"text-align: right;\">\n",
       "      <th></th>\n",
       "      <th>customer_id</th>\n",
       "      <th>recency_cltv_weekly</th>\n",
       "      <th>T_weekly</th>\n",
       "      <th>frequency</th>\n",
       "      <th>monetary_cltv_avg</th>\n",
       "      <th>exp_sales_3_months</th>\n",
       "      <th>exp_sales_6_months</th>\n",
       "      <th>exp_average_value</th>\n",
       "      <th>cltv</th>\n",
       "    </tr>\n",
       "  </thead>\n",
       "  <tbody>\n",
       "    <tr>\n",
       "      <th>9055</th>\n",
       "      <td>47a642fe-975b-11eb-8c2a-000d3a38a36f</td>\n",
       "      <td>2.857</td>\n",
       "      <td>7.857</td>\n",
       "      <td>4</td>\n",
       "      <td>1401.771</td>\n",
       "      <td>0.638</td>\n",
       "      <td>0.912</td>\n",
       "      <td>1449.030</td>\n",
       "      <td>765.870</td>\n",
       "    </tr>\n",
       "    <tr>\n",
       "      <th>13880</th>\n",
       "      <td>7137a5c0-7aad-11ea-8f20-000d3a38a36f</td>\n",
       "      <td>6.143</td>\n",
       "      <td>13.143</td>\n",
       "      <td>11</td>\n",
       "      <td>758.044</td>\n",
       "      <td>1.149</td>\n",
       "      <td>1.642</td>\n",
       "      <td>767.318</td>\n",
       "      <td>730.085</td>\n",
       "    </tr>\n",
       "    <tr>\n",
       "      <th>17323</th>\n",
       "      <td>f59053e2-a503-11e9-a2fc-000d3a38a36f</td>\n",
       "      <td>51.714</td>\n",
       "      <td>101.000</td>\n",
       "      <td>7</td>\n",
       "      <td>1106.467</td>\n",
       "      <td>0.421</td>\n",
       "      <td>0.602</td>\n",
       "      <td>1127.611</td>\n",
       "      <td>393.322</td>\n",
       "    </tr>\n",
       "    <tr>\n",
       "      <th>12438</th>\n",
       "      <td>625f40a2-5bd2-11ea-98b0-000d3a38a36f</td>\n",
       "      <td>74.286</td>\n",
       "      <td>74.571</td>\n",
       "      <td>16</td>\n",
       "      <td>501.845</td>\n",
       "      <td>0.913</td>\n",
       "      <td>1.304</td>\n",
       "      <td>506.138</td>\n",
       "      <td>382.628</td>\n",
       "    </tr>\n",
       "    <tr>\n",
       "      <th>8868</th>\n",
       "      <td>9ce6e520-89b0-11ea-a6e7-000d3a38a36f</td>\n",
       "      <td>3.429</td>\n",
       "      <td>34.429</td>\n",
       "      <td>8</td>\n",
       "      <td>601.226</td>\n",
       "      <td>0.738</td>\n",
       "      <td>1.055</td>\n",
       "      <td>611.493</td>\n",
       "      <td>373.720</td>\n",
       "    </tr>\n",
       "    <tr>\n",
       "      <th>7330</th>\n",
       "      <td>a4d534a2-5b1b-11eb-8dbd-000d3a38a36f</td>\n",
       "      <td>62.714</td>\n",
       "      <td>67.286</td>\n",
       "      <td>52</td>\n",
       "      <td>164.633</td>\n",
       "      <td>2.740</td>\n",
       "      <td>3.915</td>\n",
       "      <td>165.116</td>\n",
       "      <td>371.299</td>\n",
       "    </tr>\n",
       "    <tr>\n",
       "      <th>6402</th>\n",
       "      <td>851de3b4-8f0c-11eb-8cb8-000d3a38a36f</td>\n",
       "      <td>8.286</td>\n",
       "      <td>9.429</td>\n",
       "      <td>2</td>\n",
       "      <td>862.690</td>\n",
       "      <td>0.463</td>\n",
       "      <td>0.662</td>\n",
       "      <td>923.680</td>\n",
       "      <td>354.167</td>\n",
       "    </tr>\n",
       "    <tr>\n",
       "      <th>6666</th>\n",
       "      <td>53fe00d4-7b7a-11eb-960b-000d3a38a36f</td>\n",
       "      <td>9.714</td>\n",
       "      <td>13.000</td>\n",
       "      <td>17</td>\n",
       "      <td>259.865</td>\n",
       "      <td>1.622</td>\n",
       "      <td>2.317</td>\n",
       "      <td>262.073</td>\n",
       "      <td>351.951</td>\n",
       "    </tr>\n",
       "    <tr>\n",
       "      <th>19538</th>\n",
       "      <td>55d54d9e-8ac7-11ea-8ec0-000d3a38a36f</td>\n",
       "      <td>52.571</td>\n",
       "      <td>58.714</td>\n",
       "      <td>31</td>\n",
       "      <td>228.530</td>\n",
       "      <td>1.799</td>\n",
       "      <td>2.570</td>\n",
       "      <td>229.607</td>\n",
       "      <td>341.961</td>\n",
       "    </tr>\n",
       "    <tr>\n",
       "      <th>14858</th>\n",
       "      <td>031b2954-6d28-11eb-99c4-000d3a38a36f</td>\n",
       "      <td>14.857</td>\n",
       "      <td>15.571</td>\n",
       "      <td>3</td>\n",
       "      <td>743.587</td>\n",
       "      <td>0.508</td>\n",
       "      <td>0.726</td>\n",
       "      <td>778.050</td>\n",
       "      <td>327.503</td>\n",
       "    </tr>\n",
       "  </tbody>\n",
       "</table>\n",
       "</div>"
      ],
      "text/plain": [
       "                                customer_id  recency_cltv_weekly  T_weekly  frequency  monetary_cltv_avg  exp_sales_3_months  exp_sales_6_months  exp_average_value    cltv\n",
       "9055   47a642fe-975b-11eb-8c2a-000d3a38a36f                2.857     7.857          4           1401.771               0.638               0.912           1449.030 765.870\n",
       "13880  7137a5c0-7aad-11ea-8f20-000d3a38a36f                6.143    13.143         11            758.044               1.149               1.642            767.318 730.085\n",
       "17323  f59053e2-a503-11e9-a2fc-000d3a38a36f               51.714   101.000          7           1106.467               0.421               0.602           1127.611 393.322\n",
       "12438  625f40a2-5bd2-11ea-98b0-000d3a38a36f               74.286    74.571         16            501.845               0.913               1.304            506.138 382.628\n",
       "8868   9ce6e520-89b0-11ea-a6e7-000d3a38a36f                3.429    34.429          8            601.226               0.738               1.055            611.493 373.720\n",
       "7330   a4d534a2-5b1b-11eb-8dbd-000d3a38a36f               62.714    67.286         52            164.633               2.740               3.915            165.116 371.299\n",
       "6402   851de3b4-8f0c-11eb-8cb8-000d3a38a36f                8.286     9.429          2            862.690               0.463               0.662            923.680 354.167\n",
       "6666   53fe00d4-7b7a-11eb-960b-000d3a38a36f                9.714    13.000         17            259.865               1.622               2.317            262.073 351.951\n",
       "19538  55d54d9e-8ac7-11ea-8ec0-000d3a38a36f               52.571    58.714         31            228.530               1.799               2.570            229.607 341.961\n",
       "14858  031b2954-6d28-11eb-99c4-000d3a38a36f               14.857    15.571          3            743.587               0.508               0.726            778.050 327.503"
      ]
     },
     "execution_count": 109,
     "metadata": {},
     "output_type": "execute_result"
    }
   ],
   "source": [
    "cltv_df.sort_values(\"cltv\", ascending=False)[:10]"
   ]
  },
  {
   "cell_type": "markdown",
   "metadata": {},
   "source": [
    "# Segmentation "
   ]
  },
  {
   "cell_type": "code",
   "execution_count": 110,
   "metadata": {},
   "outputs": [],
   "source": [
    "cltv_df[\"cltv_segment\"] = pd.qcut(cltv_df[\"cltv\"], 4,labels= [\"D\", \"C\", \"B\", \"A\"])"
   ]
  },
  {
   "cell_type": "code",
   "execution_count": 111,
   "metadata": {},
   "outputs": [
    {
     "data": {
      "text/html": [
       "<div>\n",
       "<style scoped>\n",
       "    .dataframe tbody tr th:only-of-type {\n",
       "        vertical-align: middle;\n",
       "    }\n",
       "\n",
       "    .dataframe tbody tr th {\n",
       "        vertical-align: top;\n",
       "    }\n",
       "\n",
       "    .dataframe thead th {\n",
       "        text-align: right;\n",
       "    }\n",
       "</style>\n",
       "<table border=\"1\" class=\"dataframe\">\n",
       "  <thead>\n",
       "    <tr style=\"text-align: right;\">\n",
       "      <th></th>\n",
       "      <th>customer_id</th>\n",
       "      <th>recency_cltv_weekly</th>\n",
       "      <th>T_weekly</th>\n",
       "      <th>frequency</th>\n",
       "      <th>monetary_cltv_avg</th>\n",
       "      <th>exp_sales_3_months</th>\n",
       "      <th>exp_sales_6_months</th>\n",
       "      <th>exp_average_value</th>\n",
       "      <th>cltv</th>\n",
       "      <th>cltv_segment</th>\n",
       "    </tr>\n",
       "  </thead>\n",
       "  <tbody>\n",
       "    <tr>\n",
       "      <th>0</th>\n",
       "      <td>cc294636-19f0-11eb-8d74-000d3a38a36f</td>\n",
       "      <td>17.000</td>\n",
       "      <td>30.571</td>\n",
       "      <td>5</td>\n",
       "      <td>187.874</td>\n",
       "      <td>0.568</td>\n",
       "      <td>0.812</td>\n",
       "      <td>193.633</td>\n",
       "      <td>91.078</td>\n",
       "      <td>A</td>\n",
       "    </tr>\n",
       "    <tr>\n",
       "      <th>1</th>\n",
       "      <td>f431bd5a-ab7b-11e9-a2fc-000d3a38a36f</td>\n",
       "      <td>209.857</td>\n",
       "      <td>224.857</td>\n",
       "      <td>21</td>\n",
       "      <td>95.883</td>\n",
       "      <td>0.574</td>\n",
       "      <td>0.819</td>\n",
       "      <td>96.665</td>\n",
       "      <td>45.899</td>\n",
       "      <td>B</td>\n",
       "    </tr>\n",
       "    <tr>\n",
       "      <th>2</th>\n",
       "      <td>69b69676-1a40-11ea-941b-000d3a38a36f</td>\n",
       "      <td>52.286</td>\n",
       "      <td>78.857</td>\n",
       "      <td>5</td>\n",
       "      <td>117.064</td>\n",
       "      <td>0.391</td>\n",
       "      <td>0.559</td>\n",
       "      <td>120.968</td>\n",
       "      <td>39.177</td>\n",
       "      <td>B</td>\n",
       "    </tr>\n",
       "    <tr>\n",
       "      <th>3</th>\n",
       "      <td>1854e56c-491f-11eb-806e-000d3a38a36f</td>\n",
       "      <td>1.571</td>\n",
       "      <td>20.857</td>\n",
       "      <td>2</td>\n",
       "      <td>60.985</td>\n",
       "      <td>0.409</td>\n",
       "      <td>0.584</td>\n",
       "      <td>67.320</td>\n",
       "      <td>22.772</td>\n",
       "      <td>D</td>\n",
       "    </tr>\n",
       "    <tr>\n",
       "      <th>4</th>\n",
       "      <td>d6ea1074-f1f5-11e9-9346-000d3a38a36f</td>\n",
       "      <td>83.143</td>\n",
       "      <td>95.429</td>\n",
       "      <td>2</td>\n",
       "      <td>104.990</td>\n",
       "      <td>0.231</td>\n",
       "      <td>0.330</td>\n",
       "      <td>114.325</td>\n",
       "      <td>21.867</td>\n",
       "      <td>D</td>\n",
       "    </tr>\n",
       "  </tbody>\n",
       "</table>\n",
       "</div>"
      ],
      "text/plain": [
       "                            customer_id  recency_cltv_weekly  T_weekly  frequency  monetary_cltv_avg  exp_sales_3_months  exp_sales_6_months  exp_average_value   cltv cltv_segment\n",
       "0  cc294636-19f0-11eb-8d74-000d3a38a36f               17.000    30.571          5            187.874               0.568               0.812            193.633 91.078            A\n",
       "1  f431bd5a-ab7b-11e9-a2fc-000d3a38a36f              209.857   224.857         21             95.883               0.574               0.819             96.665 45.899            B\n",
       "2  69b69676-1a40-11ea-941b-000d3a38a36f               52.286    78.857          5            117.064               0.391               0.559            120.968 39.177            B\n",
       "3  1854e56c-491f-11eb-806e-000d3a38a36f                1.571    20.857          2             60.985               0.409               0.584             67.320 22.772            D\n",
       "4  d6ea1074-f1f5-11e9-9346-000d3a38a36f               83.143    95.429          2            104.990               0.231               0.330            114.325 21.867            D"
      ]
     },
     "execution_count": 111,
     "metadata": {},
     "output_type": "execute_result"
    }
   ],
   "source": [
    "cltv_df.head()"
   ]
  },
  {
   "cell_type": "code",
   "execution_count": null,
   "metadata": {},
   "outputs": [],
   "source": []
  }
 ],
 "metadata": {
  "kernelspec": {
   "display_name": "base",
   "language": "python",
   "name": "python3"
  },
  "language_info": {
   "codemirror_mode": {
    "name": "ipython",
    "version": 3
   },
   "file_extension": ".py",
   "mimetype": "text/x-python",
   "name": "python",
   "nbconvert_exporter": "python",
   "pygments_lexer": "ipython3",
   "version": "3.11.5"
  }
 },
 "nbformat": 4,
 "nbformat_minor": 2
}
